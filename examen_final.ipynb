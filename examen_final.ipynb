{
  "cells": [
    {
      "cell_type": "markdown",
      "metadata": {
        "id": "view-in-github",
        "colab_type": "text"
      },
      "source": [
        "<a href=\"https://colab.research.google.com/github/tilin1841j/examen_final/blob/main/examen_final.ipynb\" target=\"_parent\"><img src=\"https://colab.research.google.com/assets/colab-badge.svg\" alt=\"Open In Colab\"/></a>"
      ]
    },
    {
      "cell_type": "code",
      "execution_count": null,
      "metadata": {
        "id": "rvQyzdBZzjdq"
      },
      "outputs": [],
      "source": [
        "import geopandas as gdp"
      ]
    },
    {
      "cell_type": "code",
      "execution_count": null,
      "metadata": {
        "id": "42Q43PgC3bOt"
      },
      "outputs": [],
      "source": [
        "gdf_municipios = gdp.read_file('colombia-municipios.json')\n",
        "gdf_municipios"
      ]
    },
    {
      "cell_type": "code",
      "execution_count": null,
      "metadata": {
        "id": "8f4OL9LV4Rub"
      },
      "outputs": [],
      "source": []
    },
    {
      "cell_type": "code",
      "execution_count": null,
      "metadata": {
        "id": "XmcBYGqF4RkD"
      },
      "outputs": [],
      "source": []
    },
    {
      "cell_type": "code",
      "execution_count": null,
      "metadata": {
        "id": "7Heyu4cd3bZ0"
      },
      "outputs": [],
      "source": [
        "gdf_municipios.plot()"
      ]
    },
    {
      "cell_type": "code",
      "execution_count": null,
      "metadata": {
        "id": "CuZ0nJIx3be0"
      },
      "outputs": [],
      "source": [
        "mapa_1= gdf_municipios.plot(\n",
        "    column= \"name\",\n",
        "    figsize=(24,24),\n",
        "    edgecolor='black',\n",
        "    cmap= 'tab20',\n",
        "    legend= True,\n",
        "    legend_kwds ={\n",
        "        'loc':'upper left'\n",
        "    }\n",
        ")"
      ]
    },
    {
      "cell_type": "code",
      "execution_count": null,
      "metadata": {
        "id": "r2ygDgIH3bhS"
      },
      "outputs": [],
      "source": [
        "gdf_municipios = gdp.read_file('Tolima.json')\n",
        "gdf_municipios"
      ]
    },
    {
      "cell_type": "code",
      "execution_count": null,
      "metadata": {
        "id": "fVPNoApfDJ5Z"
      },
      "outputs": [],
      "source": [
        "gdf_municipios[\"centroide\"]=gdf_municipios.centroid"
      ]
    },
    {
      "cell_type": "code",
      "source": [
        "from shapely.geometry import Point"
      ],
      "metadata": {
        "id": "uuNREMWJHM5O"
      },
      "execution_count": null,
      "outputs": []
    },
    {
      "cell_type": "code",
      "source": [],
      "metadata": {
        "id": "jIpCRFl7HMzu"
      },
      "execution_count": null,
      "outputs": []
    },
    {
      "cell_type": "code",
      "execution_count": null,
      "metadata": {
        "id": "1hhUFbOTAsys"
      },
      "outputs": [],
      "source": [
        "mapa_1= gdf_municipios.plot(\n",
        "    column= \"centroides\",\n",
        "    figsize=(24,24),\n",
        "    edgecolor='black',\n",
        "    cmap= 'tab20',\n",
        "    legend= True,\n",
        "    legend_kwds ={\n",
        "        'loc':'upper left'\n",
        "    }\n",
        ")"
      ]
    },
    {
      "cell_type": "code",
      "execution_count": null,
      "metadata": {
        "id": "4Y_WkfoOAs1J"
      },
      "outputs": [],
      "source": []
    },
    {
      "cell_type": "code",
      "execution_count": null,
      "metadata": {
        "colab": {
          "background_save": true
        },
        "id": "muMTvnywAs4C"
      },
      "outputs": [],
      "source": [
        "población =pd.read_csv(predios_bogota.geojson)"
      ]
    },
    {
      "cell_type": "code",
      "execution_count": null,
      "metadata": {
        "id": "XEwCKRc4D1sp"
      },
      "outputs": [],
      "source": [
        "predios_x = predios[cuidad bolivar['predios']]\n",
        "predios_x.head()"
      ]
    },
    {
      "cell_type": "code",
      "execution_count": null,
      "metadata": {
        "id": "8UEjjDhYAs6q"
      },
      "outputs": [],
      "source": [
        "mapa_3= gdf_predios.plot(\n",
        "    column= \"predios\",\n",
        "    figsize=(24,24),\n",
        "    edgecolor='black',\n",
        "    cmap= 'tab20',\n",
        "    legend= True,\n",
        "    legend_kwds ={\n",
        "        'loc':'upper left'\n",
        "    }\n",
        ")"
      ]
    },
    {
      "cell_type": "code",
      "execution_count": null,
      "metadata": {
        "id": "1sRcYQuTAs9D"
      },
      "outputs": [],
      "source": []
    }
  ],
  "metadata": {
    "colab": {
      "provenance": [],
      "authorship_tag": "ABX9TyPToJUclJoAxTgdQKyQG2Sw",
      "include_colab_link": true
    },
    "kernelspec": {
      "display_name": "Python 3",
      "name": "python3"
    },
    "language_info": {
      "name": "python"
    }
  },
  "nbformat": 4,
  "nbformat_minor": 0
}